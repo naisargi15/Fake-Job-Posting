{
 "cells": [
  {
   "cell_type": "markdown",
   "metadata": {},
   "source": [
    "# Notebook Summary\n",
    "\n",
    "The aim of the project is use features given to determine if the listed job is fake or not. There are a lot of listings of fake jobs that lead to monetary and data scams. A system is needed to determine if a job listing is real or fake.\n",
    "\n",
    "Libraries used are: pandas, numpy, matplotlib, seaborn, sklearn.\n",
    "\n",
    "Explanation:\n",
    "1. The dataset originally has 17880 rows and 18 colummns with combination of float, int and string data types for features.\n",
    "2. The target variable is fraudulent. A value of '1' indicates that the job listing is fake and a value of '0' indicates that the job listing is real.\n",
    "3. The dataset is highly imbalanced mostly full with non fraudulent jobs. The dataset is balanced equally with both target variable values.\n",
    "4. All columns of dataset include 'job_id', 'title', 'location', 'department', 'salary_range', 'company_profile', 'description', 'requirements', 'benefits', 'telecommuting', 'has_company_logo', 'has_questions', 'employment_type', 'required_experience', 'required_education', 'industry', 'function', and'fraudulent'.\n",
    "5. All the columns which have multiple categories and won't be effective in modelling are droppped.\n",
    "6. All the columns are checked for the number of null values and most of them are dropped if the number of null values are high (More than 600 amongst 1732 rows).\n",
    "7. The dataset is split into training and test dataframes using sklearn's train_test_split\n",
    "8. The models trained are:\n",
    "* K nearest neighbors model with neighbor values from 1 to 10\n",
    "* Logistic regression model\n",
    "* Linear support vector machine classifier with penalties as 'l1' and 'l2' and multiple class values as 'ovr' and 'crammer_singer'\n",
    "* Kernelized support vector machine classifier with regularization parameters as 0.01, 0.1, 1 and 10, kernels as 'linear', 'poly', 'rbf' and 'sigmoid', and degrees of 'poly' as 2, 3, 4, and 5.\n",
    "* Decision tree classifiers with criterion as 'gini' and 'entropy' and max depths from 1 to 8\n",
    "9. The metric for comparing models is accuracy score. The model with highest accuracy score is considered the best for classification task for this dataset\n",
    "\n",
    "###### Decision Tree classifier with 'Gini' criterion and 5 as maximum depth performs best with accuracy score of 0.730337\n",
    "###### For project 1 the text columns are not used. These will be processed in project 2 using neural networks\n"
   ]
  },
  {
   "cell_type": "markdown",
   "metadata": {},
   "source": [
    "### Importing Libraries"
   ]
  },
  {
   "cell_type": "code",
   "execution_count": 152,
   "metadata": {},
   "outputs": [],
   "source": [
    "import pandas as pd\n",
    "import numpy as np\n",
    "import matplotlib.pyplot as plt\n",
    "import seaborn as sns\n",
    "from sklearn.utils import shuffle\n",
    "from sklearn.model_selection import train_test_split\n",
    "from sklearn.neighbors import KNeighborsClassifier\n",
    "import sklearn.metrics as metrics\n",
    "from sklearn.linear_model import LogisticRegression\n",
    "from sklearn.svm import LinearSVC\n",
    "from sklearn.svm import SVC\n",
    "from sklearn.tree import DecisionTreeClassifier"
   ]
  },
  {
   "cell_type": "markdown",
   "metadata": {},
   "source": [
    "### Data Processing"
   ]
  },
  {
   "cell_type": "code",
   "execution_count": 2,
   "metadata": {},
   "outputs": [],
   "source": [
    "df = pd.read_csv(\"fake_job_postings.csv\")"
   ]
  },
  {
   "cell_type": "code",
   "execution_count": 3,
   "metadata": {},
   "outputs": [
    {
     "data": {
      "text/plain": [
       "(17880, 18)"
      ]
     },
     "execution_count": 3,
     "metadata": {},
     "output_type": "execute_result"
    }
   ],
   "source": [
    "df.shape"
   ]
  },
  {
   "cell_type": "code",
   "execution_count": 4,
   "metadata": {},
   "outputs": [
    {
     "data": {
      "text/plain": [
       "Index(['job_id', 'title', 'location', 'department', 'salary_range',\n",
       "       'company_profile', 'description', 'requirements', 'benefits',\n",
       "       'telecommuting', 'has_company_logo', 'has_questions', 'employment_type',\n",
       "       'required_experience', 'required_education', 'industry', 'function',\n",
       "       'fraudulent'],\n",
       "      dtype='object')"
      ]
     },
     "execution_count": 4,
     "metadata": {},
     "output_type": "execute_result"
    }
   ],
   "source": [
    "df.columns"
   ]
  },
  {
   "cell_type": "code",
   "execution_count": 5,
   "metadata": {},
   "outputs": [
    {
     "data": {
      "text/plain": [
       "0        0\n",
       "1        0\n",
       "2        0\n",
       "3        0\n",
       "4        0\n",
       "        ..\n",
       "17875    0\n",
       "17876    0\n",
       "17877    0\n",
       "17878    0\n",
       "17879    0\n",
       "Name: fraudulent, Length: 17880, dtype: int64"
      ]
     },
     "execution_count": 5,
     "metadata": {},
     "output_type": "execute_result"
    }
   ],
   "source": [
    "df.fraudulent"
   ]
  },
  {
   "cell_type": "markdown",
   "metadata": {},
   "source": [
    "#### Fraudulent is the target variable"
   ]
  },
  {
   "cell_type": "code",
   "execution_count": 6,
   "metadata": {},
   "outputs": [
    {
     "data": {
      "text/plain": [
       "array([0, 1], dtype=int64)"
      ]
     },
     "execution_count": 6,
     "metadata": {},
     "output_type": "execute_result"
    }
   ],
   "source": [
    "df.fraudulent.unique()"
   ]
  },
  {
   "cell_type": "code",
   "execution_count": 7,
   "metadata": {},
   "outputs": [
    {
     "data": {
      "text/plain": [
       "2"
      ]
     },
     "execution_count": 7,
     "metadata": {},
     "output_type": "execute_result"
    }
   ],
   "source": [
    "df.fraudulent.nunique()"
   ]
  },
  {
   "cell_type": "code",
   "execution_count": 8,
   "metadata": {},
   "outputs": [
    {
     "data": {
      "text/plain": [
       "<matplotlib.axes._subplots.AxesSubplot at 0x1ef8774db38>"
      ]
     },
     "execution_count": 8,
     "metadata": {},
     "output_type": "execute_result"
    },
    {
     "data": {
      "image/png": "[encoded data removed]",
      "text/plain": [
       "<Figure size 432x288 with 1 Axes>"
      ]
     },
     "metadata": {
      "needs_background": "light"
     },
     "output_type": "display_data"
    }
   ],
   "source": [
    "sns.countplot(df.fraudulent)"
   ]
  },
  {
   "cell_type": "code",
   "execution_count": 9,
   "metadata": {},
   "outputs": [
    {
     "data": {
      "text/plain": [
       "(866, 18)"
      ]
     },
     "execution_count": 9,
     "metadata": {},
     "output_type": "execute_result"
    }
   ],
   "source": [
    "df[df.fraudulent == 1].shape"
   ]
  },
  {
   "cell_type": "markdown",
   "metadata": {},
   "source": [
    "#### Balancing dataset"
   ]
  },
  {
   "cell_type": "code",
   "execution_count": 10,
   "metadata": {},
   "outputs": [],
   "source": [
    "target_one = df[df.fraudulent == 1]\n",
    "target_zero = shuffle(df[df.fraudulent == 0]).iloc[:target_one.shape[0]]"
   ]
  },
  {
   "cell_type": "code",
   "execution_count": 11,
   "metadata": {},
   "outputs": [
    {
     "name": "stdout",
     "output_type": "stream",
     "text": [
      "(866, 18)\n",
      "(866, 18)\n"
     ]
    }
   ],
   "source": [
    "print(target_one.shape)\n",
    "print(target_zero.shape)"
   ]
  },
  {
   "cell_type": "code",
   "execution_count": 12,
   "metadata": {},
   "outputs": [],
   "source": [
    "df = target_one.append(target_zero)"
   ]
  },
  {
   "cell_type": "code",
   "execution_count": 13,
   "metadata": {},
   "outputs": [
    {
     "data": {
      "text/plain": [
       "(1732, 18)"
      ]
     },
     "execution_count": 13,
     "metadata": {},
     "output_type": "execute_result"
    }
   ],
   "source": [
    "df.shape"
   ]
  },
  {
   "cell_type": "code",
   "execution_count": 14,
   "metadata": {},
   "outputs": [],
   "source": [
    "df = shuffle(df)"
   ]
  },
  {
   "cell_type": "code",
   "execution_count": 15,
   "metadata": {},
   "outputs": [
    {
     "data": {
      "text/html": [
       "<div>\n",
       "<style scoped>\n",
       "    .dataframe tbody tr th:only-of-type {\n",
       "        vertical-align: middle;\n",
       "    }\n",
       "\n",
       "    .dataframe tbody tr th {\n",
       "        vertical-align: top;\n",
       "    }\n",
       "\n",
       "    .dataframe thead th {\n",
       "        text-align: right;\n",
       "    }\n",
       "</style>\n",
       "<table border=\"1\" class=\"dataframe\">\n",
       "  <thead>\n",
       "    <tr style=\"text-align: right;\">\n",
       "      <th></th>\n",
       "      <th>job_id</th>\n",
       "      <th>title</th>\n",
       "      <th>location</th>\n",
       "      <th>department</th>\n",
       "      <th>salary_range</th>\n",
       "      <th>company_profile</th>\n",
       "      <th>description</th>\n",
       "      <th>requirements</th>\n",
       "      <th>benefits</th>\n",
       "      <th>telecommuting</th>\n",
       "      <th>has_company_logo</th>\n",
       "      <th>has_questions</th>\n",
       "      <th>employment_type</th>\n",
       "      <th>required_experience</th>\n",
       "      <th>required_education</th>\n",
       "      <th>industry</th>\n",
       "      <th>function</th>\n",
       "      <th>fraudulent</th>\n",
       "    </tr>\n",
       "  </thead>\n",
       "  <tbody>\n",
       "    <tr>\n",
       "      <th>17813</th>\n",
       "      <td>17814</td>\n",
       "      <td>Customer Service Representative</td>\n",
       "      <td>US, PA, Philadelphia</td>\n",
       "      <td>Customer Service</td>\n",
       "      <td>30000-50000</td>\n",
       "      <td>Gary Cartwright established Cartwright Propert...</td>\n",
       "      <td>We are Seeking a candidate whose core values i...</td>\n",
       "      <td>Home Computer with Internet AccessBasic Comput...</td>\n",
       "      <td>Weekly pay, PTO, Paid Holidays, 401 k</td>\n",
       "      <td>1</td>\n",
       "      <td>1</td>\n",
       "      <td>0</td>\n",
       "      <td>Full-time</td>\n",
       "      <td>Entry level</td>\n",
       "      <td>High School or equivalent</td>\n",
       "      <td>Real Estate</td>\n",
       "      <td>Customer Service</td>\n",
       "      <td>1</td>\n",
       "    </tr>\n",
       "    <tr>\n",
       "      <th>17757</th>\n",
       "      <td>17758</td>\n",
       "      <td>RECEPTIONIST / DATA ENTRY / OFFICE CLERK</td>\n",
       "      <td>US, IL, CHICAGO</td>\n",
       "      <td>NaN</td>\n",
       "      <td>NaN</td>\n",
       "      <td>NaN</td>\n",
       "      <td>is seeking to hire a full time Data Entry/Cler...</td>\n",
       "      <td>QUALIFICATIONS:** Professional Phone Skills** ...</td>\n",
       "      <td>BENEFITS:SalaryMedical InsuranceProfit Sharing...</td>\n",
       "      <td>0</td>\n",
       "      <td>0</td>\n",
       "      <td>0</td>\n",
       "      <td>Full-time</td>\n",
       "      <td>Entry level</td>\n",
       "      <td>NaN</td>\n",
       "      <td>Accounting</td>\n",
       "      <td>Administrative</td>\n",
       "      <td>1</td>\n",
       "    </tr>\n",
       "    <tr>\n",
       "      <th>4578</th>\n",
       "      <td>4579</td>\n",
       "      <td>Service Associate</td>\n",
       "      <td>US, TX, Arlington</td>\n",
       "      <td>Financial Dept</td>\n",
       "      <td>28000-35000</td>\n",
       "      <td>The Accion  story began more than 100 years ag...</td>\n",
       "      <td>Welcome and greet customers, modeling a...</td>\n",
       "      <td>...</td>\n",
       "      <td>401K, HEALTH CARE PLAN , DENTAL , LIFE INSURAN...</td>\n",
       "      <td>0</td>\n",
       "      <td>1</td>\n",
       "      <td>1</td>\n",
       "      <td>Full-time</td>\n",
       "      <td>Entry level</td>\n",
       "      <td>High School or equivalent</td>\n",
       "      <td>Financial Services</td>\n",
       "      <td>NaN</td>\n",
       "      <td>1</td>\n",
       "    </tr>\n",
       "    <tr>\n",
       "      <th>7570</th>\n",
       "      <td>7571</td>\n",
       "      <td>Production Assistant</td>\n",
       "      <td>US, TX, Houston</td>\n",
       "      <td>NaN</td>\n",
       "      <td>30000-34000</td>\n",
       "      <td>Founded in 1993, our group has, in a few short...</td>\n",
       "      <td>Operate machine tools such as lathes, milling ...</td>\n",
       "      <td>Flexible ScheduleNo professional knowledge re...</td>\n",
       "      <td>compensation: 11.50/hr plus growth potential</td>\n",
       "      <td>0</td>\n",
       "      <td>1</td>\n",
       "      <td>1</td>\n",
       "      <td>Full-time</td>\n",
       "      <td>Not Applicable</td>\n",
       "      <td>Unspecified</td>\n",
       "      <td>Media Production</td>\n",
       "      <td>Manufacturing</td>\n",
       "      <td>1</td>\n",
       "    </tr>\n",
       "    <tr>\n",
       "      <th>7296</th>\n",
       "      <td>7297</td>\n",
       "      <td>Technical Support Agent - Software</td>\n",
       "      <td>US, CA, San Francisco</td>\n",
       "      <td>Business Operations</td>\n",
       "      <td>NaN</td>\n",
       "      <td>Flite delivers ad innovation at scale to the w...</td>\n",
       "      <td>We are looking for an experienced, process-ori...</td>\n",
       "      <td>Required:2+ Years working in client support / ...</td>\n",
       "      <td>Competitive baseAttractive stock option planMe...</td>\n",
       "      <td>0</td>\n",
       "      <td>1</td>\n",
       "      <td>0</td>\n",
       "      <td>Full-time</td>\n",
       "      <td>Associate</td>\n",
       "      <td>NaN</td>\n",
       "      <td>Computer Software</td>\n",
       "      <td>Customer Service</td>\n",
       "      <td>0</td>\n",
       "    </tr>\n",
       "  </tbody>\n",
       "</table>\n",
       "</div>"
      ],
      "text/plain": [
       "       job_id                                     title  \\\n",
       "17813   17814           Customer Service Representative   \n",
       "17757   17758  RECEPTIONIST / DATA ENTRY / OFFICE CLERK   \n",
       "4578     4579                         Service Associate   \n",
       "7570     7571                      Production Assistant   \n",
       "7296     7297        Technical Support Agent - Software   \n",
       "\n",
       "                    location           department salary_range  \\\n",
       "17813   US, PA, Philadelphia     Customer Service  30000-50000   \n",
       "17757        US, IL, CHICAGO                  NaN          NaN   \n",
       "4578      US, TX, Arlington        Financial Dept  28000-35000   \n",
       "7570         US, TX, Houston                  NaN  30000-34000   \n",
       "7296   US, CA, San Francisco  Business Operations          NaN   \n",
       "\n",
       "                                         company_profile  \\\n",
       "17813  Gary Cartwright established Cartwright Propert...   \n",
       "17757                                                NaN   \n",
       "4578   The Accion  story began more than 100 years ag...   \n",
       "7570   Founded in 1993, our group has, in a few short...   \n",
       "7296   Flite delivers ad innovation at scale to the w...   \n",
       "\n",
       "                                             description  \\\n",
       "17813  We are Seeking a candidate whose core values i...   \n",
       "17757  is seeking to hire a full time Data Entry/Cler...   \n",
       "4578          Welcome and greet customers, modeling a...   \n",
       "7570   Operate machine tools such as lathes, milling ...   \n",
       "7296   We are looking for an experienced, process-ori...   \n",
       "\n",
       "                                            requirements  \\\n",
       "17813  Home Computer with Internet AccessBasic Comput...   \n",
       "17757  QUALIFICATIONS:** Professional Phone Skills** ...   \n",
       "4578                                                 ...   \n",
       "7570    Flexible ScheduleNo professional knowledge re...   \n",
       "7296   Required:2+ Years working in client support / ...   \n",
       "\n",
       "                                                benefits  telecommuting  \\\n",
       "17813              Weekly pay, PTO, Paid Holidays, 401 k              1   \n",
       "17757  BENEFITS:SalaryMedical InsuranceProfit Sharing...              0   \n",
       "4578   401K, HEALTH CARE PLAN , DENTAL , LIFE INSURAN...              0   \n",
       "7570        compensation: 11.50/hr plus growth potential              0   \n",
       "7296   Competitive baseAttractive stock option planMe...              0   \n",
       "\n",
       "       has_company_logo  has_questions employment_type required_experience  \\\n",
       "17813                 1              0       Full-time         Entry level   \n",
       "17757                 0              0       Full-time         Entry level   \n",
       "4578                  1              1       Full-time         Entry level   \n",
       "7570                  1              1       Full-time      Not Applicable   \n",
       "7296                  1              0       Full-time           Associate   \n",
       "\n",
       "              required_education            industry          function  \\\n",
       "17813  High School or equivalent         Real Estate  Customer Service   \n",
       "17757                        NaN          Accounting    Administrative   \n",
       "4578   High School or equivalent  Financial Services               NaN   \n",
       "7570                 Unspecified    Media Production     Manufacturing   \n",
       "7296                         NaN   Computer Software  Customer Service   \n",
       "\n",
       "       fraudulent  \n",
       "17813           1  \n",
       "17757           1  \n",
       "4578            1  \n",
       "7570            1  \n",
       "7296            0  "
      ]
     },
     "execution_count": 15,
     "metadata": {},
     "output_type": "execute_result"
    }
   ],
   "source": [
    "df.head(5)"
   ]
  },
  {
   "cell_type": "markdown",
   "metadata": {},
   "source": [
    "#### Exploring all the columns"
   ]
  },
  {
   "cell_type": "code",
   "execution_count": 16,
   "metadata": {},
   "outputs": [
    {
     "data": {
      "text/html": [
       "<div>\n",
       "<style scoped>\n",
       "    .dataframe tbody tr th:only-of-type {\n",
       "        vertical-align: middle;\n",
       "    }\n",
       "\n",
       "    .dataframe tbody tr th {\n",
       "        vertical-align: top;\n",
       "    }\n",
       "\n",
       "    .dataframe thead th {\n",
       "        text-align: right;\n",
       "    }\n",
       "</style>\n",
       "<table border=\"1\" class=\"dataframe\">\n",
       "  <thead>\n",
       "    <tr style=\"text-align: right;\">\n",
       "      <th></th>\n",
       "      <th>job_id</th>\n",
       "      <th>telecommuting</th>\n",
       "      <th>has_company_logo</th>\n",
       "      <th>has_questions</th>\n",
       "      <th>fraudulent</th>\n",
       "    </tr>\n",
       "  </thead>\n",
       "  <tbody>\n",
       "    <tr>\n",
       "      <th>count</th>\n",
       "      <td>1732.000000</td>\n",
       "      <td>1732.000000</td>\n",
       "      <td>1732.000000</td>\n",
       "      <td>1732.000000</td>\n",
       "      <td>1732.000000</td>\n",
       "    </tr>\n",
       "    <tr>\n",
       "      <th>mean</th>\n",
       "      <td>9928.155889</td>\n",
       "      <td>0.061778</td>\n",
       "      <td>0.560624</td>\n",
       "      <td>0.380485</td>\n",
       "      <td>0.500000</td>\n",
       "    </tr>\n",
       "    <tr>\n",
       "      <th>std</th>\n",
       "      <td>5680.971596</td>\n",
       "      <td>0.240822</td>\n",
       "      <td>0.496455</td>\n",
       "      <td>0.485646</td>\n",
       "      <td>0.500144</td>\n",
       "    </tr>\n",
       "    <tr>\n",
       "      <th>min</th>\n",
       "      <td>6.000000</td>\n",
       "      <td>0.000000</td>\n",
       "      <td>0.000000</td>\n",
       "      <td>0.000000</td>\n",
       "      <td>0.000000</td>\n",
       "    </tr>\n",
       "    <tr>\n",
       "      <th>25%</th>\n",
       "      <td>5361.000000</td>\n",
       "      <td>0.000000</td>\n",
       "      <td>0.000000</td>\n",
       "      <td>0.000000</td>\n",
       "      <td>0.000000</td>\n",
       "    </tr>\n",
       "    <tr>\n",
       "      <th>50%</th>\n",
       "      <td>9156.000000</td>\n",
       "      <td>0.000000</td>\n",
       "      <td>1.000000</td>\n",
       "      <td>0.000000</td>\n",
       "      <td>0.500000</td>\n",
       "    </tr>\n",
       "    <tr>\n",
       "      <th>75%</th>\n",
       "      <td>15967.000000</td>\n",
       "      <td>0.000000</td>\n",
       "      <td>1.000000</td>\n",
       "      <td>1.000000</td>\n",
       "      <td>1.000000</td>\n",
       "    </tr>\n",
       "    <tr>\n",
       "      <th>max</th>\n",
       "      <td>17866.000000</td>\n",
       "      <td>1.000000</td>\n",
       "      <td>1.000000</td>\n",
       "      <td>1.000000</td>\n",
       "      <td>1.000000</td>\n",
       "    </tr>\n",
       "  </tbody>\n",
       "</table>\n",
       "</div>"
      ],
      "text/plain": [
       "             job_id  telecommuting  has_company_logo  has_questions  \\\n",
       "count   1732.000000    1732.000000       1732.000000    1732.000000   \n",
       "mean    9928.155889       0.061778          0.560624       0.380485   \n",
       "std     5680.971596       0.240822          0.496455       0.485646   \n",
       "min        6.000000       0.000000          0.000000       0.000000   \n",
       "25%     5361.000000       0.000000          0.000000       0.000000   \n",
       "50%     9156.000000       0.000000          1.000000       0.000000   \n",
       "75%    15967.000000       0.000000          1.000000       1.000000   \n",
       "max    17866.000000       1.000000          1.000000       1.000000   \n",
       "\n",
       "        fraudulent  \n",
       "count  1732.000000  \n",
       "mean      0.500000  \n",
       "std       0.500144  \n",
       "min       0.000000  \n",
       "25%       0.000000  \n",
       "50%       0.500000  \n",
       "75%       1.000000  \n",
       "max       1.000000  "
      ]
     },
     "execution_count": 16,
     "metadata": {},
     "output_type": "execute_result"
    }
   ],
   "source": [
    "df.describe()"
   ]
  },
  {
   "cell_type": "code",
   "execution_count": 17,
   "metadata": {},
   "outputs": [
    {
     "name": "stdout",
     "output_type": "stream",
     "text": [
      "<class 'pandas.core.frame.DataFrame'>\n",
      "Int64Index: 1732 entries, 17813 to 17670\n",
      "Data columns (total 18 columns):\n",
      "job_id                 1732 non-null int64\n",
      "title                  1732 non-null object\n",
      "location               1693 non-null object\n",
      "department             633 non-null object\n",
      "salary_range           332 non-null object\n",
      "company_profile        981 non-null object\n",
      "description            1731 non-null object\n",
      "requirements           1443 non-null object\n",
      "benefits               1007 non-null object\n",
      "telecommuting          1732 non-null int64\n",
      "has_company_logo       1732 non-null int64\n",
      "has_questions          1732 non-null int64\n",
      "employment_type        1332 non-null object\n",
      "required_experience    964 non-null object\n",
      "required_education     882 non-null object\n",
      "industry               1221 non-null object\n",
      "function               1075 non-null object\n",
      "fraudulent             1732 non-null int64\n",
      "dtypes: int64(5), object(13)\n",
      "memory usage: 257.1+ KB\n"
     ]
    }
   ],
   "source": [
    "df.info()"
   ]
  },
  {
   "cell_type": "markdown",
   "metadata": {},
   "source": [
    "#### Checking amount of null values"
   ]
  },
  {
   "cell_type": "code",
   "execution_count": 18,
   "metadata": {},
   "outputs": [
    {
     "name": "stdout",
     "output_type": "stream",
     "text": [
      "job_id: {<class 'int'>}\n",
      "title: {<class 'str'>}\n",
      "location: {<class 'str'>, <class 'float'>}\n",
      "department: {<class 'str'>, <class 'float'>}\n",
      "salary_range: {<class 'str'>, <class 'float'>}\n",
      "company_profile: {<class 'str'>, <class 'float'>}\n",
      "description: {<class 'str'>, <class 'float'>}\n",
      "requirements: {<class 'str'>, <class 'float'>}\n",
      "benefits: {<class 'str'>, <class 'float'>}\n",
      "telecommuting: {<class 'int'>}\n",
      "has_company_logo: {<class 'int'>}\n",
      "has_questions: {<class 'int'>}\n",
      "employment_type: {<class 'str'>, <class 'float'>}\n",
      "required_experience: {<class 'str'>, <class 'float'>}\n",
      "required_education: {<class 'str'>, <class 'float'>}\n",
      "industry: {<class 'str'>, <class 'float'>}\n",
      "function: {<class 'str'>, <class 'float'>}\n",
      "fraudulent: {<class 'int'>}\n"
     ]
    }
   ],
   "source": [
    "for col in df.columns:\n",
    "    series = df[col]\n",
    "    type_set = set(type(i) for i in series)\n",
    "    print(\"{0}: {1}\".format(col,type_set))"
   ]
  },
  {
   "cell_type": "code",
   "execution_count": 19,
   "metadata": {},
   "outputs": [
    {
     "name": "stdout",
     "output_type": "stream",
     "text": [
      "job_id: 0.00% null values\n",
      "title: 0.00% null values\n",
      "location: 0.02% null values\n",
      "department: 0.63% null values\n",
      "salary_range: 0.81% null values\n",
      "company_profile: 0.43% null values\n",
      "description: 0.00% null values\n",
      "requirements: 0.17% null values\n",
      "benefits: 0.42% null values\n",
      "telecommuting: 0.00% null values\n",
      "has_company_logo: 0.00% null values\n",
      "has_questions: 0.00% null values\n",
      "employment_type: 0.23% null values\n",
      "required_experience: 0.44% null values\n",
      "required_education: 0.49% null values\n",
      "industry: 0.30% null values\n",
      "function: 0.38% null values\n",
      "fraudulent: 0.00% null values\n"
     ]
    }
   ],
   "source": [
    "for col in df.columns:\n",
    "    null_val = df[col].isna().sum()\n",
    "    null_val = format(null_val/df.shape[0],'.2f')\n",
    "    print(\"{0}: {1}% null values\".format(col,null_val))"
   ]
  },
  {
   "cell_type": "markdown",
   "metadata": {},
   "source": [
    "#### Columnwise exploration"
   ]
  },
  {
   "cell_type": "code",
   "execution_count": 20,
   "metadata": {},
   "outputs": [
    {
     "name": "stdout",
     "output_type": "stream",
     "text": [
      "Index(['job_id', 'title', 'location', 'department', 'salary_range',\n",
      "       'company_profile', 'description', 'requirements', 'benefits',\n",
      "       'telecommuting', 'has_company_logo', 'has_questions', 'employment_type',\n",
      "       'required_experience', 'required_education', 'industry', 'function',\n",
      "       'fraudulent'],\n",
      "      dtype='object')\n"
     ]
    }
   ],
   "source": [
    "print(df.columns)"
   ]
  },
  {
   "cell_type": "code",
   "execution_count": 21,
   "metadata": {},
   "outputs": [],
   "source": [
    "one = df[df.fraudulent == 1]\n",
    "zero = df[df.fraudulent == 0]"
   ]
  },
  {
   "cell_type": "code",
   "execution_count": 22,
   "metadata": {},
   "outputs": [
    {
     "data": {
      "text/plain": [
       "17813    17814\n",
       "17757    17758\n",
       "4578      4579\n",
       "7570      7571\n",
       "7296      7297\n",
       "         ...  \n",
       "2816      2817\n",
       "493        494\n",
       "17399    17400\n",
       "15472    15473\n",
       "17670    17671\n",
       "Name: job_id, Length: 1732, dtype: int64"
      ]
     },
     "execution_count": 22,
     "metadata": {},
     "output_type": "execute_result"
    }
   ],
   "source": [
    "df.job_id"
   ]
  },
  {
   "cell_type": "code",
   "execution_count": 23,
   "metadata": {
    "scrolled": true
   },
   "outputs": [
    {
     "data": {
      "text/plain": [
       "[<matplotlib.lines.Line2D at 0x1ef877b7668>]"
      ]
     },
     "execution_count": 23,
     "metadata": {},
     "output_type": "execute_result"
    },
    {
     "data": {
      "image/png": "[encoded data removed]",
      "text/plain": [
       "<Figure size 432x288 with 1 Axes>"
      ]
     },
     "metadata": {
      "needs_background": "light"
     },
     "output_type": "display_data"
    }
   ],
   "source": [
    "x = range(1,len(df.job_id)+1)\n",
    "y = df.job_id\n",
    "plt.plot(x,y)"
   ]
  },
  {
   "cell_type": "code",
   "execution_count": 24,
   "metadata": {},
   "outputs": [
    {
     "name": "stdout",
     "output_type": "stream",
     "text": [
      "0\n"
     ]
    }
   ],
   "source": [
    "print(df.job_id.isna().sum())"
   ]
  },
  {
   "cell_type": "code",
   "execution_count": 25,
   "metadata": {},
   "outputs": [
    {
     "name": "stdout",
     "output_type": "stream",
     "text": [
      "0.0\n",
      "0.0\n"
     ]
    }
   ],
   "source": [
    "print(one.job_id.isna().sum()/one.shape[0])\n",
    "print(zero.job_id.isna().sum()/zero.shape[0])"
   ]
  },
  {
   "cell_type": "code",
   "execution_count": 26,
   "metadata": {},
   "outputs": [
    {
     "data": {
      "text/plain": [
       "17813             Customer Service Representative\n",
       "17757    RECEPTIONIST / DATA ENTRY / OFFICE CLERK\n",
       "4578                            Service Associate\n",
       "7570                         Production Assistant\n",
       "7296           Technical Support Agent - Software\n",
       "                           ...                   \n",
       "2816                           IT PM (April 2014)\n",
       "493                Admin Assistant/ Receptionist \n",
       "17399    WEEKLY JOBS, Part Time Workers Required.\n",
       "15472          Compliance & Controls Coordinator \n",
       "17670                      Customer Service Agent\n",
       "Name: title, Length: 1732, dtype: object"
      ]
     },
     "execution_count": 26,
     "metadata": {},
     "output_type": "execute_result"
    }
   ],
   "source": [
    "df.title"
   ]
  },
  {
   "cell_type": "code",
   "execution_count": 27,
   "metadata": {},
   "outputs": [
    {
     "data": {
      "text/plain": [
       "0"
      ]
     },
     "execution_count": 27,
     "metadata": {},
     "output_type": "execute_result"
    }
   ],
   "source": [
    "df.title.isna().sum()"
   ]
  },
  {
   "cell_type": "code",
   "execution_count": 28,
   "metadata": {},
   "outputs": [
    {
     "name": "stdout",
     "output_type": "stream",
     "text": [
      "0.0\n",
      "0.0\n"
     ]
    }
   ],
   "source": [
    "print(one.title.isna().sum()/one.shape[0])\n",
    "print(zero.title.isna().sum()/zero.shape[0])"
   ]
  },
  {
   "cell_type": "code",
   "execution_count": 29,
   "metadata": {},
   "outputs": [
    {
     "data": {
      "text/plain": [
       "17813       Customer Service\n",
       "17757                    NaN\n",
       "4578          Financial Dept\n",
       "7570                     NaN\n",
       "7296     Business Operations\n",
       "                ...         \n",
       "2816                     NaN\n",
       "493                      NaN\n",
       "17399                    NaN\n",
       "15472                finance\n",
       "17670                    NaN\n",
       "Name: department, Length: 1732, dtype: object"
      ]
     },
     "execution_count": 29,
     "metadata": {},
     "output_type": "execute_result"
    }
   ],
   "source": [
    "df.department"
   ]
  },
  {
   "cell_type": "code",
   "execution_count": 30,
   "metadata": {},
   "outputs": [
    {
     "data": {
      "text/plain": [
       "array(['Customer Service', nan, 'Financial Dept', 'Business Operations',\n",
       "       'Administrative', 'IT Administrator / Developer', 'Infrastructure',\n",
       "       'Development', 'Maintenance', 'Operations', 'tech', 'Oil & Energy',\n",
       "       'MainSup', 'Writing', 'IT', 'Information Technology', 'Sales',\n",
       "       'Clerical', 'Texas Home Health', 'IAASARS', 'Product Development',\n",
       "       'Client Services ', 'Account/finance', 'Sales and Marketing ',\n",
       "       'Account', 'Management', 'User Experience', 'Human Resources',\n",
       "       'Marketing', 'Commercial Management / Contract Management',\n",
       "       'Software Development', 'MAINT', 'Product', 'Media', 'Tech',\n",
       "       'Digital', 'Financial Services', 'Business:Market Analysis',\n",
       "       'Information Technology ', 'Engineering',\n",
       "       'Engineering, Pipeline Design', 'Controls Engineer', 'admin',\n",
       "       'OptionsAway', 'Department', 'PMO', 'biotech', 'Admin - Clerical',\n",
       "       'COMPLIANCE UNIT 701', 'Technician', 'Accounting/Payroll',\n",
       "       'Finance team', 'Financial',\n",
       "       'BI Department – Applications Directorate', 'Account Management',\n",
       "       'Main', 'SALES', 'Inbound Sales', 'HR',\n",
       "       'Engineering - Construction', 'Client Services', 'Office',\n",
       "       'Connectivity', 'Merchandising ', 'Technology', 'Catering',\n",
       "       'Aerospace and Defense Engineering Services', 'DRIVER',\n",
       "       'ENGINEERING', 'Sales / Marketing', 'Sales/Marketing', 'Dietary',\n",
       "       'Salesforce ', 'FILES DRIVER', 'CALL CENTER SP', 'Accounting',\n",
       "       'Customer service', 'Design', 'Sales and Support',\n",
       "       'Sales and Business Development', 'Digital Department', 'sales',\n",
       "       'Administration', 'CALLCENTER ', 'Product team', 'Biotech ',\n",
       "       'Sales ', 'CSR CENTER', 'administration', 'Head Start',\n",
       "       'reception', 'CSA REP', 'Data Entry', 'CALLCENTER TECH',\n",
       "       'Sales/biz dev.', 'Retail', 'CALLCENTER', 'Music', 'Engineering ',\n",
       "       'CUSTOMER X TEAM', 'medical', 'Pet Service', 'Sales / Operations',\n",
       "       'Billing', 'CSR', 'Engineer', 'CALL CENTER',\n",
       "       'Data Entry, Clerical Admin, Administrative Assistant, Customer Service,  Accounting, payroll Clerk, Book keeping',\n",
       "       'customer service', 'Customer Service/Support', 'Admin', 'Legal',\n",
       "       'HR Manager', 'Wed Development',\n",
       "       'HSE (Health Safety Environmental)', 'User experience design',\n",
       "       'Sales and Research', 'Performance Marketing',\n",
       "       'Customer Service Rep.', 'SECURITY', 'People & Culture',\n",
       "       'Starbeck ', 'Finance', 'biotech ', 'Content Production',\n",
       "       'Accounting/Finance', 'Structural', 'Studio', '49',\n",
       "       'Recruiter Network', 'Project Management',\n",
       "       'I9 Manufacturing (345)', 'Sales and Marketing',\n",
       "       ' \\tCorporate Shared Services', 'Development Services',\n",
       "       'HOTEL JOBS', 'Product Eng', 'Programming', 'IT Department',\n",
       "       'Accounts', 'BDC', 'Fashion:Internships', 'Law Enforcement',\n",
       "       'Social Media', 'Field Operations', 'Professional Services',\n",
       "       'FRAUD DEPT', 'Healthcare (Community)', 'Frontend', 'HVAC',\n",
       "       'Customer Support Team', 'Business Development', 'Art',\n",
       "       'Marekting/PR', 'LABS', 'non-tech', 'Admin/Clerical', 'Leadership',\n",
       "       'Android', 'Business:Sales', 'Services', 'Investment Operations',\n",
       "       'PR', 'Information Technology & Services', 'ACCT',\n",
       "       'Planning Department', 'Call Center CSR ', 'Oil & Energy ',\n",
       "       'Product development', 'hr', 'Success', 'Telephone Interpreters',\n",
       "       'Funnelback ', 'ADMIN', 'Real Estate & Insurance Sales',\n",
       "       'Digital Life', 'Voyageur Medical Transportation', 'OTC',\n",
       "       'Editorial', 'Administration support', 'CA', 'Didactics', 'UX/API',\n",
       "       'Refined Resources', 'Greetsnap Development', 'Internships',\n",
       "       'WWAREHOUSE ASSOCIATE', 'Work at home', 'Creative', 'SERVICE-REP',\n",
       "       'R&D', 'EUR Wholesale', 'onshore', 'Sales-International',\n",
       "       'Wunderfood', 'Hospitality', 'Food and Beverage', 'Mortgage',\n",
       "       'Sales Operations', 'IT Services', 'Provisions',\n",
       "       'Customer Experience', 'Partnerships', 'it', 'Client Operations',\n",
       "       'Analytics & UX', 'SEO', 'Data entry', 'Office Administration',\n",
       "       'Field Eng', '1411', 'Advisory', 'MM', 'COLLECTION DEPT',\n",
       "       'Receiving', 'Content', 'Power Plant & Energy', 'Member Service',\n",
       "       'Product Innovation', 'Marketing & Sales', 'Aker Solutions Inc.',\n",
       "       'Facility', 'Technology/IT', 'Core Team', 'Insurance',\n",
       "       'HEADQUATERS', \"PMO - Program Manager's Office\", 'RD ',\n",
       "       'International Growth', 'Administrative Dept', 'Communications',\n",
       "       'Commercial', 'Recruiting',\n",
       "       'Customer Service/Collections Department', 'Game Design',\n",
       "       'MAIL UNIT 65036', 'Technical', 'Customer Support',\n",
       "       'Product Management', 'Corporate', 'commercial vehicles',\n",
       "       'Events & Banquets', 'Manufacturing & Production', 'Editing',\n",
       "       '1221', 'Birdback', 'finance'], dtype=object)"
      ]
     },
     "execution_count": 30,
     "metadata": {},
     "output_type": "execute_result"
    }
   ],
   "source": [
    "df.department.unique()"
   ]
  },
  {
   "cell_type": "code",
   "execution_count": 31,
   "metadata": {},
   "outputs": [
    {
     "data": {
      "text/plain": [
       "1099"
      ]
     },
     "execution_count": 31,
     "metadata": {},
     "output_type": "execute_result"
    }
   ],
   "source": [
    "df.department.isna().sum()"
   ]
  },
  {
   "cell_type": "code",
   "execution_count": 32,
   "metadata": {},
   "outputs": [
    {
     "name": "stdout",
     "output_type": "stream",
     "text": [
      "0.6131639722863741\n",
      "0.6558891454965358\n"
     ]
    }
   ],
   "source": [
    "print(one.department.isna().sum()/one.shape[0])\n",
    "print(zero.department.isna().sum()/zero.shape[0])"
   ]
  },
  {
   "cell_type": "code",
   "execution_count": 33,
   "metadata": {},
   "outputs": [
    {
     "data": {
      "text/plain": [
       "17813    30000-50000\n",
       "17757            NaN\n",
       "4578     28000-35000\n",
       "7570     30000-34000\n",
       "7296             NaN\n",
       "            ...     \n",
       "2816             NaN\n",
       "493      23040-28800\n",
       "17399            NaN\n",
       "15472            NaN\n",
       "17670            NaN\n",
       "Name: salary_range, Length: 1732, dtype: object"
      ]
     },
     "execution_count": 33,
     "metadata": {},
     "output_type": "execute_result"
    }
   ],
   "source": [
    "df['salary_range']"
   ]
  },
  {
   "cell_type": "code",
   "execution_count": 34,
   "metadata": {},
   "outputs": [
    {
     "data": {
      "text/plain": [
       "array(['30000-50000', nan, '28000-35000', '30000-34000', '21-63000',\n",
       "       '22000-28000', '10000-14000', '30000-100000', '25000-35000',\n",
       "       '65000-80000', '55000-68000', '2000-2000', '40000-65000', '0-0',\n",
       "       '95000-115000', '65000-75000', '26000-30000', '15400-19600',\n",
       "       '1000-2000', '50000-60000', '35000-40000', '30000-40000',\n",
       "       '23000-28000', '60000-100000', '80000-120000', '250000-500000',\n",
       "       '2000000-2263000', '1000-5000', '2500-5000', '6266624-8582080',\n",
       "       '15-19', '10000-250000', '65000-85000', '30000-35000',\n",
       "       '55000-65000', '13-20', '60000-90000', '75000-100000',\n",
       "       '48000-55000', '16000-18500', '110000-125000', '35000-45000',\n",
       "       '18000-30000', '90000-100000', '27000-32000', '80000-200000',\n",
       "       '80-100', '20000-20000', '9000-10000', '30000-38000',\n",
       "       '28000-38000', '70000-90000', '40000-45000', '45-48', '55-65',\n",
       "       '120000-125000', '40000-90000', '18000-20000', '23000-32000',\n",
       "       '25000-30000', '5500-5500', '2000-4000', '0-34300', '48000-65000',\n",
       "       '15750-15750', '45000-70000', '34000-50000', '1000-3000',\n",
       "       '28000-32000', '2500-3500', '55000-80000', '17-20', '12000-17000',\n",
       "       '29000-32000', '20-3075', '7200-1380000', '3000-4000', '4500-4500',\n",
       "       '1234-12345', '35000-75000', '21600-31200', '100000-120000',\n",
       "       '26000-32000', '20000-30000', '20000-25000', '23000-26000',\n",
       "       '25-30', '2000-3000', '70000-80000', '1000000-1500000',\n",
       "       '140000-160000', '200000-500000', '45000-50000', '0-30000',\n",
       "       '1600-1700', '25000-28000', '80000-110000', '120000-180000',\n",
       "       '50000-50000', '25000-40000', '26000-50000', '9600-10500',\n",
       "       '4500-5000', '36000-50000', '200000-250000', '48000-58000',\n",
       "       '40000-100000', '22-61000', '70000-125000', '35-40',\n",
       "       '335000-400000', '55000-75000', '30000-60000', '50000-65000',\n",
       "       '37000-40000', '35000-50000', '3000-60000', '26000-28000', '20-25',\n",
       "       '75-115', '30000-65000', '1600-1600', '20000-27000', '21-31',\n",
       "       '30000-45000', '20000-38000', '35000-35000', '35000-73000',\n",
       "       '65000-115000', '34000-42000', '15000-75000', '65-100',\n",
       "       '14000-18000', '70000-120000', '1000-6000', '40000-50000',\n",
       "       '60000-70000', '26000-29000', '130000-145000', '1000-1000',\n",
       "       '40-50', '45000-65000', '721000-780000', '55000-70000',\n",
       "       '80000-100000', '120000-130000', '17000-21000', '50000-75000',\n",
       "       '75000-80000', '80000-119000', '63000-63000', '50000-80000',\n",
       "       '15000-30000', '30000-40700', '0-180000', '35-45', '80000-85000',\n",
       "       '200000-600000', '66000-84000', '100000-117000', '30000-42000',\n",
       "       '16-20', '3700-3800', '14000-17000', 'Oct-15', '2000-5000',\n",
       "       '53000-67000', '40-100', '120000-264000', '44000-102000',\n",
       "       '156000-187200', '90-100', '60000-80000', 'Dec-25', '50-70',\n",
       "       '35000-60000', '0-2000', '24000-35000', '900-900', '32000-40000',\n",
       "       '92000-141000', '100000-250000', '40000-60000', '1517-1517',\n",
       "       '80000-90000', '23040-28800'], dtype=object)"
      ]
     },
     "execution_count": 34,
     "metadata": {},
     "output_type": "execute_result"
    }
   ],
   "source": [
    "df['salary_range'].unique()"
   ]
  },
  {
   "cell_type": "code",
   "execution_count": 35,
   "metadata": {},
   "outputs": [
    {
     "data": {
      "text/plain": [
       "1400"
      ]
     },
     "execution_count": 35,
     "metadata": {},
     "output_type": "execute_result"
    }
   ],
   "source": [
    "df['salary_range'].isna().sum()"
   ]
  },
  {
   "cell_type": "code",
   "execution_count": 36,
   "metadata": {},
   "outputs": [
    {
     "name": "stdout",
     "output_type": "stream",
     "text": [
      "0.7424942263279446\n",
      "0.874133949191686\n"
     ]
    }
   ],
   "source": [
    "print(one.salary_range.isna().sum()/one.shape[0])\n",
    "print(zero.salary_range.isna().sum()/zero.shape[0])"
   ]
  },
  {
   "cell_type": "code",
   "execution_count": 37,
   "metadata": {},
   "outputs": [
    {
     "data": {
      "text/plain": [
       "17813    Gary Cartwright established Cartwright Propert...\n",
       "17757                                                  NaN\n",
       "4578     The Accion  story began more than 100 years ag...\n",
       "7570     Founded in 1993, our group has, in a few short...\n",
       "7296     Flite delivers ad innovation at scale to the w...\n",
       "                               ...                        \n",
       "2816     Retailers around the world are constantly work...\n",
       "493                                                    NaN\n",
       "17399                                                  NaN\n",
       "15472    Optimal Business Action was created in 2005 in...\n",
       "17670                                                  NaN\n",
       "Name: company_profile, Length: 1732, dtype: object"
      ]
     },
     "execution_count": 37,
     "metadata": {},
     "output_type": "execute_result"
    }
   ],
   "source": [
    "df['company_profile']"
   ]
  },
  {
   "cell_type": "code",
   "execution_count": 38,
   "metadata": {},
   "outputs": [
    {
     "data": {
      "text/plain": [
       "751"
      ]
     },
     "execution_count": 38,
     "metadata": {},
     "output_type": "execute_result"
    }
   ],
   "source": [
    "df.company_profile.isna().sum()"
   ]
  },
  {
   "cell_type": "code",
   "execution_count": 39,
   "metadata": {},
   "outputs": [
    {
     "name": "stdout",
     "output_type": "stream",
     "text": [
      "0.6778290993071594\n",
      "0.18937644341801385\n"
     ]
    }
   ],
   "source": [
    "print(one.company_profile.isna().sum()/one.shape[0])\n",
    "print(zero.company_profile.isna().sum()/zero.shape[0])"
   ]
  },
  {
   "cell_type": "code",
   "execution_count": 40,
   "metadata": {},
   "outputs": [],
   "source": [
    "# Most fraudulent job openings don't have a company profile"
   ]
  },
  {
   "cell_type": "code",
   "execution_count": 41,
   "metadata": {},
   "outputs": [
    {
     "data": {
      "text/plain": [
       "17813    We are Seeking a candidate whose core values i...\n",
       "17757    is seeking to hire a full time Data Entry/Cler...\n",
       "4578            Welcome and greet customers, modeling a...\n",
       "7570     Operate machine tools such as lathes, milling ...\n",
       "7296     We are looking for an experienced, process-ori...\n",
       "                               ...                        \n",
       "2816     A great opportunity for experienced IT Project...\n",
       "493      A Newly established company seeks outgoing, fr...\n",
       "17399    WEEKLY JOBS, Part Time Workers Required.You ca...\n",
       "15472    On behalf of our client, a multinational pharm...\n",
       "17670    We are seeking individuals to be connected wit...\n",
       "Name: description, Length: 1732, dtype: object"
      ]
     },
     "execution_count": 41,
     "metadata": {},
     "output_type": "execute_result"
    }
   ],
   "source": [
    "df['description']"
   ]
  },
  {
   "cell_type": "code",
   "execution_count": 42,
   "metadata": {},
   "outputs": [
    {
     "data": {
      "text/plain": [
       "1"
      ]
     },
     "execution_count": 42,
     "metadata": {},
     "output_type": "execute_result"
    }
   ],
   "source": [
    "df.description.isna().sum()"
   ]
  },
  {
   "cell_type": "code",
   "execution_count": 43,
   "metadata": {},
   "outputs": [
    {
     "data": {
      "text/plain": [
       "17813    Home Computer with Internet AccessBasic Comput...\n",
       "17757    QUALIFICATIONS:** Professional Phone Skills** ...\n",
       "4578                                                   ...\n",
       "7570      Flexible ScheduleNo professional knowledge re...\n",
       "7296     Required:2+ Years working in client support / ...\n",
       "                               ...                        \n",
       "2816                                                   NaN\n",
       "493      Must have good knowledge of Outlook, Microsoft...\n",
       "17399                          No any experience required.\n",
       "15472        3 year solid experience in a similar position\n",
       "17670    Home Office SuppliesComputer with internet acc...\n",
       "Name: requirements, Length: 1732, dtype: object"
      ]
     },
     "execution_count": 43,
     "metadata": {},
     "output_type": "execute_result"
    }
   ],
   "source": [
    "df['requirements']"
   ]
  },
  {
   "cell_type": "code",
   "execution_count": 44,
   "metadata": {},
   "outputs": [
    {
     "data": {
      "text/plain": [
       "289"
      ]
     },
     "execution_count": 44,
     "metadata": {},
     "output_type": "execute_result"
    }
   ],
   "source": [
    "df.requirements.isna().sum()"
   ]
  },
  {
   "cell_type": "code",
   "execution_count": 45,
   "metadata": {},
   "outputs": [
    {
     "name": "stdout",
     "output_type": "stream",
     "text": [
      "0.17782909930715934\n",
      "0.1558891454965358\n"
     ]
    }
   ],
   "source": [
    "print(one.requirements.isna().sum()/one.shape[0])\n",
    "print(zero.requirements.isna().sum()/zero.shape[0])"
   ]
  },
  {
   "cell_type": "code",
   "execution_count": 46,
   "metadata": {},
   "outputs": [
    {
     "data": {
      "text/plain": [
       "17813                Weekly pay, PTO, Paid Holidays, 401 k\n",
       "17757    BENEFITS:SalaryMedical InsuranceProfit Sharing...\n",
       "4578     401K, HEALTH CARE PLAN , DENTAL , LIFE INSURAN...\n",
       "7570          compensation: 11.50/hr plus growth potential\n",
       "7296     Competitive baseAttractive stock option planMe...\n",
       "                               ...                        \n",
       "2816                                                   NaN\n",
       "493                                                    NaN\n",
       "17399                                    Zero start-up fee\n",
       "15472                                                  NaN\n",
       "17670                                                  NaN\n",
       "Name: benefits, Length: 1732, dtype: object"
      ]
     },
     "execution_count": 46,
     "metadata": {},
     "output_type": "execute_result"
    }
   ],
   "source": [
    "df['benefits']"
   ]
  },
  {
   "cell_type": "code",
   "execution_count": 47,
   "metadata": {},
   "outputs": [
    {
     "data": {
      "text/plain": [
       "725"
      ]
     },
     "execution_count": 47,
     "metadata": {},
     "output_type": "execute_result"
    }
   ],
   "source": [
    "df['benefits'].isna().sum()"
   ]
  },
  {
   "cell_type": "code",
   "execution_count": 48,
   "metadata": {},
   "outputs": [
    {
     "name": "stdout",
     "output_type": "stream",
     "text": [
      "0.42032332563510394\n",
      "0.4168591224018476\n"
     ]
    }
   ],
   "source": [
    "print(one.benefits.isna().sum()/one.shape[0])\n",
    "print(zero.benefits.isna().sum()/zero.shape[0])"
   ]
  },
  {
   "cell_type": "code",
   "execution_count": 49,
   "metadata": {},
   "outputs": [
    {
     "data": {
      "text/plain": [
       "17813    1\n",
       "17757    0\n",
       "4578     0\n",
       "7570     0\n",
       "7296     0\n",
       "        ..\n",
       "2816     0\n",
       "493      0\n",
       "17399    0\n",
       "15472    0\n",
       "17670    1\n",
       "Name: telecommuting, Length: 1732, dtype: int64"
      ]
     },
     "execution_count": 49,
     "metadata": {},
     "output_type": "execute_result"
    }
   ],
   "source": [
    "df['telecommuting']"
   ]
  },
  {
   "cell_type": "code",
   "execution_count": 50,
   "metadata": {},
   "outputs": [
    {
     "data": {
      "text/plain": [
       "0"
      ]
     },
     "execution_count": 50,
     "metadata": {},
     "output_type": "execute_result"
    }
   ],
   "source": [
    "df['telecommuting'].isna().sum()"
   ]
  },
  {
   "cell_type": "code",
   "execution_count": 51,
   "metadata": {},
   "outputs": [
    {
     "data": {
      "text/plain": [
       "<matplotlib.axes._subplots.AxesSubplot at 0x1ef87821128>"
      ]
     },
     "execution_count": 51,
     "metadata": {},
     "output_type": "execute_result"
    },
    {
     "data": {
      "image/png": "[encoded data removed]",
      "text/plain": [
       "<Figure size 432x288 with 1 Axes>"
      ]
     },
     "metadata": {
      "needs_background": "light"
     },
     "output_type": "display_data"
    }
   ],
   "source": [
    "sns.countplot(df['telecommuting'])"
   ]
  },
  {
   "cell_type": "code",
   "execution_count": 52,
   "metadata": {},
   "outputs": [
    {
     "data": {
      "text/plain": [
       "17813    1\n",
       "17757    0\n",
       "4578     1\n",
       "7570     1\n",
       "7296     1\n",
       "        ..\n",
       "2816     0\n",
       "493      0\n",
       "17399    0\n",
       "15472    1\n",
       "17670    0\n",
       "Name: has_company_logo, Length: 1732, dtype: int64"
      ]
     },
     "execution_count": 52,
     "metadata": {},
     "output_type": "execute_result"
    }
   ],
   "source": [
    "df['has_company_logo']"
   ]
  },
  {
   "cell_type": "code",
   "execution_count": 53,
   "metadata": {},
   "outputs": [
    {
     "data": {
      "text/plain": [
       "<matplotlib.axes._subplots.AxesSubplot at 0x1ef8785f320>"
      ]
     },
     "execution_count": 53,
     "metadata": {},
     "output_type": "execute_result"
    },
    {
     "data": {
      "image/png": "[encoded data removed]",
      "text/plain": [
       "<Figure size 432x288 with 1 Axes>"
      ]
     },
     "metadata": {
      "needs_background": "light"
     },
     "output_type": "display_data"
    }
   ],
   "source": [
    "sns.countplot(df['has_company_logo'])"
   ]
  },
  {
   "cell_type": "code",
   "execution_count": 54,
   "metadata": {},
   "outputs": [
    {
     "data": {
      "text/plain": [
       "0"
      ]
     },
     "execution_count": 54,
     "metadata": {},
     "output_type": "execute_result"
    }
   ],
   "source": [
    "df['has_company_logo'].isna().sum()"
   ]
  },
  {
   "cell_type": "code",
   "execution_count": 55,
   "metadata": {},
   "outputs": [
    {
     "name": "stdout",
     "output_type": "stream",
     "text": [
      "Fraudulent and logo: 0.32678983833718245\n"
     ]
    }
   ],
   "source": [
    "print(\"Fraudulent and logo: {0}\".format(one[one.has_company_logo == 1].shape[0]/one.shape[0]))"
   ]
  },
  {
   "cell_type": "code",
   "execution_count": 56,
   "metadata": {},
   "outputs": [
    {
     "name": "stdout",
     "output_type": "stream",
     "text": [
      "Non fraudulent and logo: 0.7944572748267898\n"
     ]
    }
   ],
   "source": [
    "print(\"Non fraudulent and logo: {0}\".format(zero[zero.has_company_logo == 1].shape[0]/zero.shape[0]))"
   ]
  },
  {
   "cell_type": "markdown",
   "metadata": {},
   "source": [
    "###### Most non fraudulent jobs have company logo"
   ]
  },
  {
   "cell_type": "code",
   "execution_count": 57,
   "metadata": {},
   "outputs": [
    {
     "name": "stdout",
     "output_type": "stream",
     "text": [
      "Fraudulent and no logo: 0.6732101616628176\n"
     ]
    }
   ],
   "source": [
    "print(\"Fraudulent and no logo: {0}\".format(one[one.has_company_logo == 0].shape[0]/one.shape[0]))"
   ]
  },
  {
   "cell_type": "code",
   "execution_count": 58,
   "metadata": {},
   "outputs": [
    {
     "name": "stdout",
     "output_type": "stream",
     "text": [
      "Non fraudulent and no logo: 0.20554272517321015\n"
     ]
    }
   ],
   "source": [
    "print(\"Non fraudulent and no logo: {0}\".format(zero[zero.has_company_logo == 0].shape[0]/zero.shape[0]))"
   ]
  },
  {
   "cell_type": "markdown",
   "metadata": {},
   "source": [
    "###### Most fraudulent jobs don't have a company logo"
   ]
  },
  {
   "cell_type": "code",
   "execution_count": 59,
   "metadata": {},
   "outputs": [
    {
     "data": {
      "text/plain": [
       "17813    0\n",
       "17757    0\n",
       "4578     1\n",
       "7570     1\n",
       "7296     0\n",
       "        ..\n",
       "2816     0\n",
       "493      0\n",
       "17399    0\n",
       "15472    0\n",
       "17670    0\n",
       "Name: has_questions, Length: 1732, dtype: int64"
      ]
     },
     "execution_count": 59,
     "metadata": {},
     "output_type": "execute_result"
    }
   ],
   "source": [
    "df['has_questions']"
   ]
  },
  {
   "cell_type": "code",
   "execution_count": 60,
   "metadata": {},
   "outputs": [
    {
     "data": {
      "text/plain": [
       "<matplotlib.axes._subplots.AxesSubplot at 0x1ef878cf358>"
      ]
     },
     "execution_count": 60,
     "metadata": {},
     "output_type": "execute_result"
    },
    {
     "data": {
      "image/png": "[encoded data removed]",
      "text/plain": [
       "<Figure size 432x288 with 1 Axes>"
      ]
     },
     "metadata": {
      "needs_background": "light"
     },
     "output_type": "display_data"
    }
   ],
   "source": [
    "sns.countplot(df['has_questions'])"
   ]
  },
  {
   "cell_type": "code",
   "execution_count": 61,
   "metadata": {},
   "outputs": [
    {
     "data": {
      "text/plain": [
       "0"
      ]
     },
     "execution_count": 61,
     "metadata": {},
     "output_type": "execute_result"
    }
   ],
   "source": [
    "df['has_questions'].isna().sum()"
   ]
  },
  {
   "cell_type": "code",
   "execution_count": 62,
   "metadata": {},
   "outputs": [
    {
     "name": "stdout",
     "output_type": "stream",
     "text": [
      "Fraudulent and questions: 0.28868360277136257\n",
      "Non fraudulent and questions: 0.4722863741339492\n"
     ]
    }
   ],
   "source": [
    "print(\"Fraudulent and questions: {0}\".format(one[one.has_questions == 1].shape[0]/one.shape[0]))\n",
    "\n",
    "print(\"Non fraudulent and questions: {0}\".format(zero[zero.has_questions == 1].shape[0]/zero.shape[0]))"
   ]
  },
  {
   "cell_type": "code",
   "execution_count": 63,
   "metadata": {},
   "outputs": [
    {
     "name": "stdout",
     "output_type": "stream",
     "text": [
      "Fraudulent and no questions: 0.7113163972286374\n",
      "Non fraudulent and no questions: 0.5277136258660509\n"
     ]
    }
   ],
   "source": [
    "print(\"Fraudulent and no questions: {0}\".format(one[one.has_questions == 0].shape[0]/one.shape[0]))\n",
    "\n",
    "print(\"Non fraudulent and no questions: {0}\".format(zero[zero.has_questions == 0].shape[0]/zero.shape[0]))"
   ]
  },
  {
   "cell_type": "markdown",
   "metadata": {},
   "source": [
    "###### Most fraudulent jobs don't have questions"
   ]
  },
  {
   "cell_type": "code",
   "execution_count": 64,
   "metadata": {},
   "outputs": [
    {
     "data": {
      "text/plain": [
       "array(['Full-time', nan, 'Contract', 'Part-time', 'Other', 'Temporary'],\n",
       "      dtype=object)"
      ]
     },
     "execution_count": 64,
     "metadata": {},
     "output_type": "execute_result"
    }
   ],
   "source": [
    "df['employment_type'].unique()"
   ]
  },
  {
   "cell_type": "code",
   "execution_count": 65,
   "metadata": {},
   "outputs": [
    {
     "data": {
      "text/plain": [
       "400"
      ]
     },
     "execution_count": 65,
     "metadata": {},
     "output_type": "execute_result"
    }
   ],
   "source": [
    "df['employment_type'].isna().sum()"
   ]
  },
  {
   "cell_type": "code",
   "execution_count": 66,
   "metadata": {},
   "outputs": [
    {
     "name": "stdout",
     "output_type": "stream",
     "text": [
      "0.27829099307159355\n",
      "0.1836027713625866\n"
     ]
    }
   ],
   "source": [
    "print(one.employment_type.isna().sum()/one.shape[0])\n",
    "print(zero.employment_type.isna().sum()/zero.shape[0])"
   ]
  },
  {
   "cell_type": "code",
   "execution_count": 67,
   "metadata": {},
   "outputs": [
    {
     "data": {
      "text/plain": [
       "<matplotlib.axes._subplots.AxesSubplot at 0x1ef87789400>"
      ]
     },
     "execution_count": 67,
     "metadata": {},
     "output_type": "execute_result"
    },
    {
     "data": {
      "image/png": "[encoded data removed]",
      "text/plain": [
       "<Figure size 432x288 with 1 Axes>"
      ]
     },
     "metadata": {
      "needs_background": "light"
     },
     "output_type": "display_data"
    }
   ],
   "source": [
    "sns.countplot(one.employment_type)"
   ]
  },
  {
   "cell_type": "code",
   "execution_count": 68,
   "metadata": {},
   "outputs": [
    {
     "data": {
      "text/plain": [
       "<matplotlib.axes._subplots.AxesSubplot at 0x1ef87815b00>"
      ]
     },
     "execution_count": 68,
     "metadata": {},
     "output_type": "execute_result"
    },
    {
     "data": {
      "image/png": "[encoded data removed]",
      "text/plain": [
       "<Figure size 432x288 with 1 Axes>"
      ]
     },
     "metadata": {
      "needs_background": "light"
     },
     "output_type": "display_data"
    }
   ],
   "source": [
    "sns.countplot(zero.employment_type)"
   ]
  },
  {
   "cell_type": "code",
   "execution_count": 69,
   "metadata": {},
   "outputs": [
    {
     "data": {
      "text/plain": [
       "17813         Entry level\n",
       "17757         Entry level\n",
       "4578          Entry level\n",
       "7570       Not Applicable\n",
       "7296            Associate\n",
       "               ...       \n",
       "2816     Mid-Senior level\n",
       "493           Entry level\n",
       "17399                 NaN\n",
       "15472           Associate\n",
       "17670         Entry level\n",
       "Name: required_experience, Length: 1732, dtype: object"
      ]
     },
     "execution_count": 69,
     "metadata": {},
     "output_type": "execute_result"
    }
   ],
   "source": [
    "df['required_experience']"
   ]
  },
  {
   "cell_type": "code",
   "execution_count": 70,
   "metadata": {},
   "outputs": [
    {
     "data": {
      "text/plain": [
       "768"
      ]
     },
     "execution_count": 70,
     "metadata": {},
     "output_type": "execute_result"
    }
   ],
   "source": [
    "df['required_experience'].isna().sum()"
   ]
  },
  {
   "cell_type": "code",
   "execution_count": 71,
   "metadata": {},
   "outputs": [
    {
     "name": "stdout",
     "output_type": "stream",
     "text": [
      "0.5023094688221709\n",
      "0.384526558891455\n"
     ]
    }
   ],
   "source": [
    "print(one.required_experience.isna().sum()/one.shape[0])\n",
    "print(zero.required_experience.isna().sum()/zero.shape[0])"
   ]
  },
  {
   "cell_type": "code",
   "execution_count": 72,
   "metadata": {
    "scrolled": false
   },
   "outputs": [
    {
     "data": {
      "text/plain": [
       "<matplotlib.axes._subplots.AxesSubplot at 0x1ef87914198>"
      ]
     },
     "execution_count": 72,
     "metadata": {},
     "output_type": "execute_result"
    },
    {
     "data": {
      "image/png": "[encoded data removed]",
      "text/plain": [
       "<Figure size 1080x576 with 1 Axes>"
      ]
     },
     "metadata": {
      "needs_background": "light"
     },
     "output_type": "display_data"
    }
   ],
   "source": [
    "plt.figure(figsize=(15,8))\n",
    "sns.countplot(one.required_experience)"
   ]
  },
  {
   "cell_type": "code",
   "execution_count": 73,
   "metadata": {},
   "outputs": [
    {
     "data": {
      "text/plain": [
       "<matplotlib.axes._subplots.AxesSubplot at 0x1ef87b65518>"
      ]
     },
     "execution_count": 73,
     "metadata": {},
     "output_type": "execute_result"
    },
    {
     "data": {
      "image/png": "[encoded data removed]",
      "text/plain": [
       "<Figure size 1080x576 with 1 Axes>"
      ]
     },
     "metadata": {
      "needs_background": "light"
     },
     "output_type": "display_data"
    }
   ],
   "source": [
    "plt.figure(figsize=(15,8))\n",
    "sns.countplot(zero.required_experience)"
   ]
  },
  {
   "cell_type": "markdown",
   "metadata": {},
   "source": [
    "###### Mostly \"Entry level jobs\" are fraudulent"
   ]
  },
  {
   "cell_type": "code",
   "execution_count": 74,
   "metadata": {},
   "outputs": [
    {
     "data": {
      "text/plain": [
       "17813      High School or equivalent\n",
       "17757                            NaN\n",
       "4578       High School or equivalent\n",
       "7570                     Unspecified\n",
       "7296                             NaN\n",
       "                    ...             \n",
       "2816               Bachelor's Degree\n",
       "493        High School or equivalent\n",
       "17399                            NaN\n",
       "15472                            NaN\n",
       "17670    Some High School Coursework\n",
       "Name: required_education, Length: 1732, dtype: object"
      ]
     },
     "execution_count": 74,
     "metadata": {},
     "output_type": "execute_result"
    }
   ],
   "source": [
    "df['required_education']"
   ]
  },
  {
   "cell_type": "code",
   "execution_count": 75,
   "metadata": {},
   "outputs": [
    {
     "data": {
      "text/plain": [
       "850"
      ]
     },
     "execution_count": 75,
     "metadata": {},
     "output_type": "execute_result"
    }
   ],
   "source": [
    "df['required_education'].isna().sum()"
   ]
  },
  {
   "cell_type": "code",
   "execution_count": 76,
   "metadata": {},
   "outputs": [
    {
     "name": "stdout",
     "output_type": "stream",
     "text": [
      "0.5207852193995381\n",
      "0.4607390300230947\n"
     ]
    }
   ],
   "source": [
    "print(one.required_education.isna().sum()/one.shape[0])\n",
    "print(zero.required_education.isna().sum()/zero.shape[0])"
   ]
  },
  {
   "cell_type": "code",
   "execution_count": 77,
   "metadata": {
    "scrolled": false
   },
   "outputs": [
    {
     "data": {
      "text/plain": [
       "(array([0, 1, 2, 3, 4, 5, 6, 7, 8, 9]), <a list of 10 Text xticklabel objects>)"
      ]
     },
     "execution_count": 77,
     "metadata": {},
     "output_type": "execute_result"
    },
    {
     "data": {
      "image/png": "[encoded data removed]",
      "text/plain": [
       "<Figure size 1440x864 with 1 Axes>"
      ]
     },
     "metadata": {
      "needs_background": "light"
     },
     "output_type": "display_data"
    }
   ],
   "source": [
    "plt.figure(figsize=(20,12))\n",
    "sns.countplot(one.required_education)\n",
    "plt.xticks(rotation=45)"
   ]
  },
  {
   "cell_type": "code",
   "execution_count": 78,
   "metadata": {},
   "outputs": [
    {
     "data": {
      "text/plain": [
       "(array([0, 1, 2, 3, 4, 5, 6, 7, 8, 9]), <a list of 10 Text xticklabel objects>)"
      ]
     },
     "execution_count": 78,
     "metadata": {},
     "output_type": "execute_result"
    },
    {
     "data": {
      "image/png": "[encoded data removed]",
      "text/plain": [
       "<Figure size 1440x864 with 1 Axes>"
      ]
     },
     "metadata": {
      "needs_background": "light"
     },
     "output_type": "display_data"
    }
   ],
   "source": [
    "plt.figure(figsize=(20,12))\n",
    "sns.countplot(zero.required_education)\n",
    "plt.xticks(rotation=45)"
   ]
  },
  {
   "cell_type": "code",
   "execution_count": 79,
   "metadata": {},
   "outputs": [
    {
     "data": {
      "text/plain": [
       "17813                            Real Estate\n",
       "17757                             Accounting\n",
       "4578                      Financial Services\n",
       "7570                        Media Production\n",
       "7296                       Computer Software\n",
       "                        ...                 \n",
       "2816     Information Technology and Services\n",
       "493                        Computer Software\n",
       "17399                                    NaN\n",
       "15472                                    NaN\n",
       "17670                                    NaN\n",
       "Name: industry, Length: 1732, dtype: object"
      ]
     },
     "execution_count": 79,
     "metadata": {},
     "output_type": "execute_result"
    }
   ],
   "source": [
    "df['industry']"
   ]
  },
  {
   "cell_type": "code",
   "execution_count": 80,
   "metadata": {},
   "outputs": [
    {
     "data": {
      "text/plain": [
       "511"
      ]
     },
     "execution_count": 80,
     "metadata": {},
     "output_type": "execute_result"
    }
   ],
   "source": [
    "df['industry'].isna().sum()"
   ]
  },
  {
   "cell_type": "code",
   "execution_count": 81,
   "metadata": {},
   "outputs": [
    {
     "name": "stdout",
     "output_type": "stream",
     "text": [
      "0.31755196304849886\n",
      "0.27251732101616627\n"
     ]
    }
   ],
   "source": [
    "print(one.industry.isna().sum()/one.shape[0])\n",
    "print(zero.industry.isna().sum()/zero.shape[0])"
   ]
  },
  {
   "cell_type": "code",
   "execution_count": 82,
   "metadata": {},
   "outputs": [
    {
     "data": {
      "text/plain": [
       "17813          Customer Service\n",
       "17757            Administrative\n",
       "4578                        NaN\n",
       "7570              Manufacturing\n",
       "7296           Customer Service\n",
       "                  ...          \n",
       "2816     Information Technology\n",
       "493              Administrative\n",
       "17399                       NaN\n",
       "15472                     Other\n",
       "17670            Administrative\n",
       "Name: function, Length: 1732, dtype: object"
      ]
     },
     "execution_count": 82,
     "metadata": {},
     "output_type": "execute_result"
    }
   ],
   "source": [
    "df['function']"
   ]
  },
  {
   "cell_type": "code",
   "execution_count": 83,
   "metadata": {},
   "outputs": [
    {
     "data": {
      "text/plain": [
       "657"
      ]
     },
     "execution_count": 83,
     "metadata": {},
     "output_type": "execute_result"
    }
   ],
   "source": [
    "df['function'].isna().sum()"
   ]
  },
  {
   "cell_type": "code",
   "execution_count": 84,
   "metadata": {},
   "outputs": [
    {
     "name": "stdout",
     "output_type": "stream",
     "text": [
      "0.3891454965357968\n",
      "0.3695150115473441\n"
     ]
    }
   ],
   "source": [
    "print(one.function.isna().sum()/one.shape[0])\n",
    "print(zero.function.isna().sum()/zero.shape[0])"
   ]
  },
  {
   "cell_type": "markdown",
   "metadata": {},
   "source": [
    "### Data Preparation"
   ]
  },
  {
   "cell_type": "code",
   "execution_count": 85,
   "metadata": {},
   "outputs": [],
   "source": [
    "for col in df.columns:\n",
    "    nulls = df[col].isna().sum()\n",
    "    if nulls > 600:\n",
    "        df = df.drop(columns=[col])"
   ]
  },
  {
   "cell_type": "code",
   "execution_count": 86,
   "metadata": {},
   "outputs": [
    {
     "data": {
      "text/plain": [
       "(1732, 11)"
      ]
     },
     "execution_count": 86,
     "metadata": {},
     "output_type": "execute_result"
    }
   ],
   "source": [
    "df.shape"
   ]
  },
  {
   "cell_type": "code",
   "execution_count": 87,
   "metadata": {},
   "outputs": [],
   "source": [
    "x = df.location.apply(lambda x: str(x).split(',')[-1])"
   ]
  },
  {
   "cell_type": "code",
   "execution_count": 89,
   "metadata": {},
   "outputs": [
    {
     "data": {
      "text/plain": [
       "array(['Full-time', nan, 'Contract', 'Part-time', 'Other', 'Temporary'],\n",
       "      dtype=object)"
      ]
     },
     "execution_count": 89,
     "metadata": {},
     "output_type": "execute_result"
    }
   ],
   "source": [
    "df.employment_type.unique()"
   ]
  },
  {
   "cell_type": "code",
   "execution_count": 103,
   "metadata": {},
   "outputs": [],
   "source": [
    "x = np.array(x)"
   ]
  },
  {
   "cell_type": "code",
   "execution_count": 110,
   "metadata": {},
   "outputs": [
    {
     "data": {
      "text/plain": [
       "Index(['job_id', 'title', 'location', 'description', 'requirements',\n",
       "       'telecommuting', 'has_company_logo', 'has_questions', 'employment_type',\n",
       "       'industry', 'fraudulent'],\n",
       "      dtype='object')"
      ]
     },
     "execution_count": 110,
     "metadata": {},
     "output_type": "execute_result"
    }
   ],
   "source": [
    "df.columns"
   ]
  },
  {
   "cell_type": "code",
   "execution_count": 114,
   "metadata": {},
   "outputs": [],
   "source": [
    "df2 = df.drop(columns=['job_id','title','location','description','requirements','industry'])"
   ]
  },
  {
   "cell_type": "code",
   "execution_count": 117,
   "metadata": {},
   "outputs": [],
   "source": [
    "df2 = df2.dropna()"
   ]
  },
  {
   "cell_type": "code",
   "execution_count": 119,
   "metadata": {},
   "outputs": [],
   "source": [
    "df2 = pd.get_dummies(df2)"
   ]
  },
  {
   "cell_type": "code",
   "execution_count": 140,
   "metadata": {},
   "outputs": [
    {
     "data": {
      "text/html": [
       "<div>\n",
       "<style scoped>\n",
       "    .dataframe tbody tr th:only-of-type {\n",
       "        vertical-align: middle;\n",
       "    }\n",
       "\n",
       "    .dataframe tbody tr th {\n",
       "        vertical-align: top;\n",
       "    }\n",
       "\n",
       "    .dataframe thead th {\n",
       "        text-align: right;\n",
       "    }\n",
       "</style>\n",
       "<table border=\"1\" class=\"dataframe\">\n",
       "  <thead>\n",
       "    <tr style=\"text-align: right;\">\n",
       "      <th></th>\n",
       "      <th>telecommuting</th>\n",
       "      <th>has_company_logo</th>\n",
       "      <th>has_questions</th>\n",
       "      <th>fraudulent</th>\n",
       "      <th>employment_type_Contract</th>\n",
       "      <th>employment_type_Full-time</th>\n",
       "      <th>employment_type_Other</th>\n",
       "      <th>employment_type_Part-time</th>\n",
       "      <th>employment_type_Temporary</th>\n",
       "    </tr>\n",
       "  </thead>\n",
       "  <tbody>\n",
       "    <tr>\n",
       "      <th>17813</th>\n",
       "      <td>1</td>\n",
       "      <td>1</td>\n",
       "      <td>0</td>\n",
       "      <td>1</td>\n",
       "      <td>0</td>\n",
       "      <td>1</td>\n",
       "      <td>0</td>\n",
       "      <td>0</td>\n",
       "      <td>0</td>\n",
       "    </tr>\n",
       "    <tr>\n",
       "      <th>17757</th>\n",
       "      <td>0</td>\n",
       "      <td>0</td>\n",
       "      <td>0</td>\n",
       "      <td>1</td>\n",
       "      <td>0</td>\n",
       "      <td>1</td>\n",
       "      <td>0</td>\n",
       "      <td>0</td>\n",
       "      <td>0</td>\n",
       "    </tr>\n",
       "    <tr>\n",
       "      <th>4578</th>\n",
       "      <td>0</td>\n",
       "      <td>1</td>\n",
       "      <td>1</td>\n",
       "      <td>1</td>\n",
       "      <td>0</td>\n",
       "      <td>1</td>\n",
       "      <td>0</td>\n",
       "      <td>0</td>\n",
       "      <td>0</td>\n",
       "    </tr>\n",
       "    <tr>\n",
       "      <th>7570</th>\n",
       "      <td>0</td>\n",
       "      <td>1</td>\n",
       "      <td>1</td>\n",
       "      <td>1</td>\n",
       "      <td>0</td>\n",
       "      <td>1</td>\n",
       "      <td>0</td>\n",
       "      <td>0</td>\n",
       "      <td>0</td>\n",
       "    </tr>\n",
       "    <tr>\n",
       "      <th>7296</th>\n",
       "      <td>0</td>\n",
       "      <td>1</td>\n",
       "      <td>0</td>\n",
       "      <td>0</td>\n",
       "      <td>0</td>\n",
       "      <td>1</td>\n",
       "      <td>0</td>\n",
       "      <td>0</td>\n",
       "      <td>0</td>\n",
       "    </tr>\n",
       "  </tbody>\n",
       "</table>\n",
       "</div>"
      ],
      "text/plain": [
       "       telecommuting  has_company_logo  has_questions  fraudulent  \\\n",
       "17813              1                 1              0           1   \n",
       "17757              0                 0              0           1   \n",
       "4578               0                 1              1           1   \n",
       "7570               0                 1              1           1   \n",
       "7296               0                 1              0           0   \n",
       "\n",
       "       employment_type_Contract  employment_type_Full-time  \\\n",
       "17813                         0                          1   \n",
       "17757                         0                          1   \n",
       "4578                          0                          1   \n",
       "7570                          0                          1   \n",
       "7296                          0                          1   \n",
       "\n",
       "       employment_type_Other  employment_type_Part-time  \\\n",
       "17813                      0                          0   \n",
       "17757                      0                          0   \n",
       "4578                       0                          0   \n",
       "7570                       0                          0   \n",
       "7296                       0                          0   \n",
       "\n",
       "       employment_type_Temporary  \n",
       "17813                          0  \n",
       "17757                          0  \n",
       "4578                           0  \n",
       "7570                           0  \n",
       "7296                           0  "
      ]
     },
     "execution_count": 140,
     "metadata": {},
     "output_type": "execute_result"
    }
   ],
   "source": [
    "df2.head(5)"
   ]
  },
  {
   "cell_type": "markdown",
   "metadata": {},
   "source": [
    "### Train and test split"
   ]
  },
  {
   "cell_type": "code",
   "execution_count": 154,
   "metadata": {},
   "outputs": [],
   "source": [
    "y = df2['fraudulent']\n",
    "X = df2.drop(columns=['fraudulent'])"
   ]
  },
  {
   "cell_type": "code",
   "execution_count": 155,
   "metadata": {},
   "outputs": [],
   "source": [
    "X_train, X_test, y_train, y_test = train_test_split(X,y,test_size=0.2,random_state=0)"
   ]
  },
  {
   "cell_type": "markdown",
   "metadata": {},
   "source": [
    "## Models"
   ]
  },
  {
   "cell_type": "code",
   "execution_count": 156,
   "metadata": {},
   "outputs": [],
   "source": [
    "models = []\n",
    "acc = []"
   ]
  },
  {
   "cell_type": "markdown",
   "metadata": {},
   "source": [
    "### 1. KNN Classifier"
   ]
  },
  {
   "cell_type": "code",
   "execution_count": 157,
   "metadata": {},
   "outputs": [],
   "source": [
    "neighbors = [i for i in range(1,11)]"
   ]
  },
  {
   "cell_type": "code",
   "execution_count": 158,
   "metadata": {},
   "outputs": [],
   "source": [
    "error_rate = []"
   ]
  },
  {
   "cell_type": "code",
   "execution_count": 159,
   "metadata": {},
   "outputs": [
    {
     "name": "stdout",
     "output_type": "stream",
     "text": [
      "1: 0.6254681647940075\n",
      "2: 0.7116104868913857\n",
      "3: 0.6142322097378277\n",
      "4: 0.6254681647940075\n",
      "5: 0.6217228464419475\n",
      "6: 0.6217228464419475\n",
      "7: 0.6329588014981273\n",
      "8: 0.6217228464419475\n",
      "9: 0.6329588014981273\n",
      "10: 0.6179775280898876\n"
     ]
    }
   ],
   "source": [
    "for neigh in neighbors:\n",
    "    knn = KNeighborsClassifier(n_neighbors=neigh)\n",
    "    knn.fit(X_train,y_train)\n",
    "    pred = knn.predict(X_test)\n",
    "    error_rate.append(np.mean(y_test != pred))\n",
    "    score = metrics.accuracy_score(y_true=y_test,y_pred=pred)\n",
    "    models.append(\"KNN_\"+str(neigh))\n",
    "    acc.append(score)\n",
    "    print(\"{0}: {1}\".format(neigh,score))"
   ]
  },
  {
   "cell_type": "code",
   "execution_count": 160,
   "metadata": {},
   "outputs": [
    {
     "data": {
      "text/plain": [
       "Text(0, 0.5, 'Error Rate')"
      ]
     },
     "execution_count": 160,
     "metadata": {},
     "output_type": "execute_result"
    },
    {
     "data": {
      "image/png": "[encoded data removed]",
      "text/plain": [
       "<Figure size 720x432 with 1 Axes>"
      ]
     },
     "metadata": {
      "needs_background": "light"
     },
     "output_type": "display_data"
    }
   ],
   "source": [
    "plt.figure(figsize=(10,6))\n",
    "plt.plot(neighbors,error_rate)\n",
    "plt.title('Error Rate vs. K Value')\n",
    "plt.xlabel('K')\n",
    "plt.ylabel('Error Rate')"
   ]
  },
  {
   "cell_type": "markdown",
   "metadata": {},
   "source": [
    "### 2. Logistic Regression"
   ]
  },
  {
   "cell_type": "code",
   "execution_count": 161,
   "metadata": {},
   "outputs": [
    {
     "name": "stdout",
     "output_type": "stream",
     "text": [
      "Logistic Regression: 0.7265917602996255\n"
     ]
    }
   ],
   "source": [
    "clf = LogisticRegression(random_state=0)\n",
    "model = clf.fit(X_train,y_train)\n",
    "pred = model.predict(X_test)\n",
    "models.append(\"Logistic Regression\")\n",
    "score = metrics.accuracy_score(y_test,pred)\n",
    "acc.append(score)\n",
    "print(\"Logistic Regression: {0}\".format(score))"
   ]
  },
  {
   "cell_type": "markdown",
   "metadata": {},
   "source": [
    "### 3. Support Vector Classifier"
   ]
  },
  {
   "cell_type": "code",
   "execution_count": 162,
   "metadata": {},
   "outputs": [],
   "source": [
    "penalties = ['l1','l2']\n",
    "multi_class = ['ovr', 'crammer_singer']"
   ]
  },
  {
   "cell_type": "code",
   "execution_count": 163,
   "metadata": {},
   "outputs": [
    {
     "name": "stdout",
     "output_type": "stream",
     "text": [
      "LinearSVC_pen-l1_cls-ovr 0.7265917602996255\n",
      "LinearSVC_pen-l1_cls-crammer_singer 0.7265917602996255\n",
      "LinearSVC_pen-l2_cls-ovr 0.7265917602996255\n",
      "LinearSVC_pen-l2_cls-crammer_singer 0.7265917602996255\n"
     ]
    }
   ],
   "source": [
    "for pen in penalties:\n",
    "    for cls in multi_class:\n",
    "        clf = LinearSVC(random_state=0,penalty=pen,multi_class=cls,dual=False)\n",
    "        model = clf.fit(X_train,y_train)\n",
    "        pred = model.predict(X_test)\n",
    "        score = metrics.accuracy_score(y_test,pred)\n",
    "        models.append(\"LinearSVC_pen-\"+str(pen)+\"_cls-\"+str(cls))\n",
    "        acc.append(score)\n",
    "        print(\"LinearSVC_pen-\"+str(pen)+\"_cls-\"+str(cls), score)"
   ]
  },
  {
   "cell_type": "markdown",
   "metadata": {},
   "source": [
    "### 4. Support Vector Classifier"
   ]
  },
  {
   "cell_type": "code",
   "execution_count": 164,
   "metadata": {},
   "outputs": [],
   "source": [
    "c = [0.01, 0.1, 1, 10]\n",
    "kernels = ['linear', 'poly', 'rbf', 'sigmoid']\n",
    "degrees = [2,3,4,5]"
   ]
  },
  {
   "cell_type": "code",
   "execution_count": 165,
   "metadata": {},
   "outputs": [
    {
     "name": "stdout",
     "output_type": "stream",
     "text": [
      "SVC_linear_C-0.01 0.7265917602996255\n",
      "SVC_linear_C-0.1 0.7265917602996255\n",
      "SVC_linear_C-1 0.7265917602996255\n",
      "SVC_linear_C-10 0.7265917602996255\n",
      "SVC_poly_C-0.01_deg-2 0.7153558052434457\n",
      "SVC_poly_C-0.01_deg-3 0.704119850187266\n",
      "SVC_poly_C-0.01_deg-4 0.704119850187266\n",
      "SVC_poly_C-0.01_deg-5 0.704119850187266\n",
      "SVC_poly_C-0.1_deg-2 0.7265917602996255\n",
      "SVC_poly_C-0.1_deg-3 0.7265917602996255\n",
      "SVC_poly_C-0.1_deg-4 0.7153558052434457\n",
      "SVC_poly_C-0.1_deg-5 0.7153558052434457\n",
      "SVC_poly_C-1_deg-2 0.7265917602996255\n",
      "SVC_poly_C-1_deg-3 0.7265917602996255\n",
      "SVC_poly_C-1_deg-4 0.7265917602996255\n",
      "SVC_poly_C-1_deg-5 0.7265917602996255\n",
      "SVC_poly_C-10_deg-2 0.7265917602996255\n",
      "SVC_poly_C-10_deg-3 0.7265917602996255\n",
      "SVC_poly_C-10_deg-4 0.7265917602996255\n",
      "SVC_poly_C-10_deg-5 0.7265917602996255\n",
      "SVC_rbf_C-0.01 0.700374531835206\n",
      "SVC_rbf_C-0.1 0.7265917602996255\n",
      "SVC_rbf_C-1 0.7265917602996255\n",
      "SVC_rbf_C-10 0.7265917602996255\n",
      "SVC_sigmoid_C-0.01 0.6179775280898876\n",
      "SVC_sigmoid_C-0.1 0.6441947565543071\n",
      "SVC_sigmoid_C-1 0.6367041198501873\n",
      "SVC_sigmoid_C-10 0.6179775280898876\n"
     ]
    }
   ],
   "source": [
    "for kern in kernels:\n",
    "    if kern == 'poly':\n",
    "        for val in c:\n",
    "            for deg in degrees:\n",
    "                clf = SVC(random_state=0,kernel=kern,C=val,degree=deg)\n",
    "                model = clf.fit(X_train,y_train)\n",
    "                pred = model.predict(X_test)\n",
    "                models.append(\"SVC_\"+str(kern)+\"_C-\"+str(val)+\"_deg-\"+str(deg))\n",
    "                score = metrics.accuracy_score(y_test,pred)\n",
    "                acc.append(score)\n",
    "                print(\"SVC_\"+str(kern)+\"_C-\"+str(val)+\"_deg-\"+str(deg),score)\n",
    "    else:\n",
    "        for val in c:\n",
    "            clf = SVC(random_state=0,kernel=kern,C=val)\n",
    "            model = clf.fit(X_train,y_train)\n",
    "            pred = model.predict(X_test)\n",
    "            models.append(\"SVC_\"+str(kern)+\"_C-\"+str(val))\n",
    "            score = metrics.accuracy_score(y_test,pred)\n",
    "            acc.append(score)\n",
    "            print(\"SVC_\"+str(kern)+\"_C-\"+str(val),score)"
   ]
  },
  {
   "cell_type": "markdown",
   "metadata": {},
   "source": [
    "### 5. Decision Tree Classifier"
   ]
  },
  {
   "cell_type": "code",
   "execution_count": 166,
   "metadata": {},
   "outputs": [],
   "source": [
    "criterion = ['gini','entropy']\n",
    "max_depths = [i for i in range(1,9)]"
   ]
  },
  {
   "cell_type": "code",
   "execution_count": 167,
   "metadata": {},
   "outputs": [
    {
     "name": "stdout",
     "output_type": "stream",
     "text": [
      "DecisionTree_cri-gini_depth-1 0.7265917602996255\n",
      "DecisionTree_cri-gini_depth-2 0.7265917602996255\n",
      "DecisionTree_cri-gini_depth-3 0.7265917602996255\n",
      "DecisionTree_cri-gini_depth-4 0.7265917602996255\n",
      "DecisionTree_cri-gini_depth-5 0.7303370786516854\n",
      "DecisionTree_cri-gini_depth-6 0.7265917602996255\n",
      "DecisionTree_cri-gini_depth-7 0.7265917602996255\n",
      "DecisionTree_cri-gini_depth-8 0.7265917602996255\n",
      "DecisionTree_cri-entropy_depth-1 0.7265917602996255\n",
      "DecisionTree_cri-entropy_depth-2 0.7265917602996255\n",
      "DecisionTree_cri-entropy_depth-3 0.7265917602996255\n",
      "DecisionTree_cri-entropy_depth-4 0.7265917602996255\n",
      "DecisionTree_cri-entropy_depth-5 0.7265917602996255\n",
      "DecisionTree_cri-entropy_depth-6 0.7228464419475655\n",
      "DecisionTree_cri-entropy_depth-7 0.7265917602996255\n",
      "DecisionTree_cri-entropy_depth-8 0.7265917602996255\n"
     ]
    }
   ],
   "source": [
    "for cri in criterion:\n",
    "    for max_dep in max_depths:\n",
    "        clf = DecisionTreeClassifier(criterion=cri,max_depth=max_dep)\n",
    "        model = clf.fit(X_train,y_train)\n",
    "        pred = model.predict(X_test)\n",
    "        models.append(\"DecisionTree_cri-\"+str(cri)+\"_depth-\"+str(max_dep))\n",
    "        score = metrics.accuracy_score(y_test,pred)\n",
    "        acc.append(score)\n",
    "        print(\"DecisionTree_cri-\"+str(cri)+\"_depth-\"+str(max_dep),score)"
   ]
  },
  {
   "cell_type": "markdown",
   "metadata": {},
   "source": [
    "## Comparing Models"
   ]
  },
  {
   "cell_type": "code",
   "execution_count": 173,
   "metadata": {},
   "outputs": [
    {
     "data": {
      "image/png": "[encoded data removed]",
      "text/plain": [
       "<Figure size 1440x1080 with 1 Axes>"
      ]
     },
     "metadata": {
      "needs_background": "light"
     },
     "output_type": "display_data"
    }
   ],
   "source": [
    "plt.figure(figsize=(20,15))\n",
    "sns.barplot(models,acc)\n",
    "plt.ylabel(\"Accuracy Score\")\n",
    "plt.xticks(rotation=90)\n",
    "plt.show()"
   ]
  },
  {
   "cell_type": "code",
   "execution_count": 175,
   "metadata": {},
   "outputs": [],
   "source": [
    "df_models = pd.DataFrame({'model':models,'accuracy':acc})"
   ]
  },
  {
   "cell_type": "code",
   "execution_count": 177,
   "metadata": {},
   "outputs": [
    {
     "data": {
      "text/html": [
       "<div>\n",
       "<style scoped>\n",
       "    .dataframe tbody tr th:only-of-type {\n",
       "        vertical-align: middle;\n",
       "    }\n",
       "\n",
       "    .dataframe tbody tr th {\n",
       "        vertical-align: top;\n",
       "    }\n",
       "\n",
       "    .dataframe thead th {\n",
       "        text-align: right;\n",
       "    }\n",
       "</style>\n",
       "<table border=\"1\" class=\"dataframe\">\n",
       "  <thead>\n",
       "    <tr style=\"text-align: right;\">\n",
       "      <th></th>\n",
       "      <th>model</th>\n",
       "      <th>accuracy</th>\n",
       "    </tr>\n",
       "  </thead>\n",
       "  <tbody>\n",
       "    <tr>\n",
       "      <th>47</th>\n",
       "      <td>DecisionTree_cri-gini_depth-5</td>\n",
       "      <td>0.730337</td>\n",
       "    </tr>\n",
       "  </tbody>\n",
       "</table>\n",
       "</div>"
      ],
      "text/plain": [
       "                            model  accuracy\n",
       "47  DecisionTree_cri-gini_depth-5  0.730337"
      ]
     },
     "execution_count": 177,
     "metadata": {},
     "output_type": "execute_result"
    }
   ],
   "source": [
    "df_models[df_models.accuracy == max(acc)]"
   ]
  },
  {
   "cell_type": "markdown",
   "metadata": {},
   "source": [
    "# Best model is Decision Tree Classifier with gini as the 'criteria' and 5 as maximum tree depth"
   ]
  }
 ],
 "metadata": {
  "kernelspec": {
   "display_name": "Python 3",
   "language": "python",
   "name": "python3"
  },
  "language_info": {
   "codemirror_mode": {
    "name": "ipython",
    "version": 3
   },
   "file_extension": ".py",
   "mimetype": "text/x-python",
   "name": "python",
   "nbconvert_exporter": "python",
   "pygments_lexer": "ipython3",
   "version": "3.7.4"
  }
 },
 "nbformat": 4,
 "nbformat_minor": 4
}
